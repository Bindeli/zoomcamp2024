{
 "cells": [
  {
   "cell_type": "code",
   "execution_count": 2,
   "id": "0b6a3885-5230-4867-81ca-2bcbb35f1ebc",
   "metadata": {},
   "outputs": [
    {
     "name": "stdout",
     "output_type": "stream",
     "text": [
      "HELLO WORLD in CodeSpaces\n"
     ]
    }
   ],
   "source": [
    "print(\"HELLO WORLD in CodeSpaces\")"
   ]
  },
  {
   "cell_type": "code",
   "execution_count": null,
   "id": "717da0a2-a256-4b1a-aa96-fee8f3e90265",
   "metadata": {},
   "outputs": [],
   "source": []
  }
 ],
 "metadata": {
  "kernelspec": {
   "display_name": "Python 3 (ipykernel)",
   "language": "python",
   "name": "python3"
  },
  "language_info": {
   "codemirror_mode": {
    "name": "ipython",
    "version": 3
   },
   "file_extension": ".py",
   "mimetype": "text/x-python",
   "name": "python",
   "nbconvert_exporter": "python",
   "pygments_lexer": "ipython3",
   "version": "3.10.13"
  }
 },
 "nbformat": 4,
 "nbformat_minor": 5
}
